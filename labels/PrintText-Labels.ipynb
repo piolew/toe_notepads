{
 "cells": [
  {
   "cell_type": "code",
   "execution_count": 32,
   "metadata": {},
   "outputs": [],
   "source": [
    "import subprocess\n",
    "\n",
    "def execute_cli(command, cwd=None, verbose=False):\n",
    "    cmd_exec = command.split(' ')\n",
    "    print(command)\n",
    "    p = subprocess.Popen(cmd_exec, stdin=None, stdout=subprocess.PIPE, cwd=cwd)    \n",
    "\n",
    "    lines = ''\n",
    "    for line in p.stdout:\n",
    "        if verbose: \n",
    "            print(str(line.rstrip()))\n",
    "            p.stdout.flush()\n",
    "        lines += str(line)\n",
    "\n",
    "    stdout, stderr = p.communicate()\n",
    "    return p.returncode, lines, stderr\n",
    "\n",
    "\n",
    "def generate_png(text_lines = [], res=(360,180), font_size=46, filename=\"out.png\"):\n",
    "    from PIL import Image, ImageDraw, ImageFont\n",
    "    img = Image.new('RGB', res, color = (255,255, 255))\n",
    "    d = ImageDraw.Draw(img)\n",
    "    font_file = 'Arial.ttf'\n",
    "    line_srides = 80\n",
    "    y_pos = 10\n",
    "    x_pos = 0\n",
    "    for line in text_lines:    \n",
    "        d.text((x_pos,y_pos), line, font=ImageFont.truetype(font_file, font_size), fill=(0, 0, 0))\n",
    "        y_pos += line_srides\n",
    "    img.save(filename)\n",
    "    "
   ]
  },
  {
   "cell_type": "code",
   "execution_count": 44,
   "metadata": {},
   "outputs": [],
   "source": [
    "generate_png(text_lines=[\"SEN PE IO3 ADC WA BIND\", \"BAT 3V GND RX TX G0 EN\"], res=(460,180), font_size=36)"
   ]
  },
  {
   "cell_type": "code",
   "execution_count": 45,
   "metadata": {},
   "outputs": [
    {
     "name": "stdout",
     "output_type": "stream",
     "text": [
      "brother_ql -b pyusb -m QL-700 -p usb://0x04f9:0x2042 print out.png -l 12 -r 90\n"
     ]
    },
    {
     "data": {
      "text/plain": [
       "(0, '', None)"
      ]
     },
     "execution_count": 45,
     "metadata": {},
     "output_type": "execute_result"
    }
   ],
   "source": [
    "filename = \"out.png\"\n",
    "execute_cli(\"brother_ql -b pyusb -m QL-700 -p usb://0x04f9:0x2042 print {} -l 12 -r 90\".format(filename))"
   ]
  },
  {
   "cell_type": "code",
   "execution_count": null,
   "metadata": {},
   "outputs": [],
   "source": []
  }
 ],
 "metadata": {
  "kernelspec": {
   "display_name": "Python 3",
   "language": "python",
   "name": "python3"
  },
  "language_info": {
   "codemirror_mode": {
    "name": "ipython",
    "version": 3
   },
   "file_extension": ".py",
   "mimetype": "text/x-python",
   "name": "python",
   "nbconvert_exporter": "python",
   "pygments_lexer": "ipython3",
   "version": "3.5.2"
  }
 },
 "nbformat": 4,
 "nbformat_minor": 2
}
